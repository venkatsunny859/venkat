{
  "nbformat": 4,
  "nbformat_minor": 0,
  "metadata": {
    "colab": {
      "provenance": [],
      "authorship_tag": "ABX9TyPOV6FnWNGINs5og6eICKS/",
      "include_colab_link": true
    },
    "kernelspec": {
      "name": "python3",
      "display_name": "Python 3"
    },
    "language_info": {
      "name": "python"
    }
  },
  "cells": [
    {
      "cell_type": "markdown",
      "metadata": {
        "id": "view-in-github",
        "colab_type": "text"
      },
      "source": [
        "<a href=\"https://colab.research.google.com/github/venkatsunny859/venkat/blob/main/title_1.ipynb\" target=\"_parent\"><img src=\"https://colab.research.google.com/assets/colab-badge.svg\" alt=\"Open In Colab\"/></a>"
      ]
    },
    {
      "cell_type": "code",
      "execution_count": 3,
      "metadata": {
        "colab": {
          "base_uri": "https://localhost:8080/"
        },
        "id": "JbcklclYAIVd",
        "outputId": "6edde806-4752-4acb-f664-08abdd7a0f9d"
      },
      "outputs": [
        {
          "output_type": "stream",
          "name": "stdout",
          "text": [
            "\n",
            "Haar Cascade Accuracies (10 trials):\n",
            "Trial 1: 92.15%\n",
            "Trial 2: 90.64%\n",
            "Trial 3: 91.79%\n",
            "Trial 4: 82.64%\n",
            "Trial 5: 77.66%\n",
            "Trial 6: 75.50%\n",
            "Trial 7: 91.05%\n",
            "Trial 8: 103.72%\n",
            "Trial 9: 80.95%\n",
            "Trial 10: 80.50%\n",
            "\n",
            "KNN Accuracies (10 trials):\n",
            "Trial 1: 35.64%\n",
            "Trial 2: 37.25%\n",
            "Trial 3: 31.05%\n",
            "Trial 4: 38.25%\n",
            "Trial 5: 29.36%\n",
            "Trial 6: 36.73%\n",
            "Trial 7: 33.12%\n",
            "Trial 8: 29.26%\n",
            "Trial 9: 34.74%\n",
            "Trial 10: 37.13%\n",
            "\n",
            "Average Haar Cascade Accuracy: 86.66%\n",
            "Average KNN Accuracy: 34.25%\n",
            "Difference (KNN - Haar): -52.41%\n"
          ]
        }
      ],
      "source": [
        "import numpy as np\n",
        "import pandas as pd\n",
        "from sklearn.neighbors import KNeighborsClassifier\n",
        "from sklearn.model_selection import train_test_split\n",
        "from sklearn.metrics import accuracy_score\n",
        "from sklearn.preprocessing import LabelEncoder\n",
        "import random\n",
        "\n",
        "# Simulated dataset based on your input (pasted as a string for Colab)\n",
        "data_str = \"\"\"Accident_Index\\tAge_Band_of_Driver\\tAge_of_Vehicle\\tDriver_Home_Area_Type\\tDriver_IMD_Decile\\tEngine_Capacity_.CC.\\tHit_Object_in_Carriageway\\tHit_Object_off_Carriageway\\tJourney_Purpose_of_Driver\\tJunction_Location\\tmake\\tmodel\\tPropulsion_Code\\tSex_of_Driver\\tSkidding_and_Overturning\\tTowing_and_Articulation\\tVehicle_Leaving_Carriageway\\tVehicle_Location.Restricted_Lane\\tVehicle_Manoeuvre\\tVehicle_Reference\\tVehicle_Type\\tWas_Vehicle_Left_Hand_Drive\\tX1st_Point_of_Impact\\tYear\n",
        "200401BS00001\\t26 - 35\\t3\\tUrban area\\t4\\t1588\\tNone\\tNone\\tData missing or out of range\\tData missing or out of range\\tROVER\\t45 CLASSIC 16V\\tPetrol\\tMale\\tNone\\tNo tow/articulation\\tDid not leave carriageway\\t0\\tGoing ahead other\\t2\\t109\\tData missing or out of range\\tFront\\t2004\n",
        "200401BS00002\\t26 - 35\\tNA\\tUrban area\\t3\\tNA\\tNone\\tNone\\tData missing or out of range\\tData missing or out of range\\tBMW\\tC1\\tNA\\tMale\\tNone\\tNo tow/articulation\\tDid not leave carriageway\\t0\\tGoing ahead other\\t1\\t109\\tData missing or out of range\\tFront\\t2004\n",
        "200401BS00003\\t26 - 35\\t4\\tData missing or out of range\\tNA\\t998\\tNone\\tNone\\tData missing or out of range\\tData missing or out of range\\tNISSAN\\tMICRA CELEBRATION 16V\\tPetrol\\tMale\\tNone\\tNo tow/articulation\\tDid not leave carriageway\\t0\\tTurning right\\t1\\t109\\tData missing or out of range\\tFront\\t2004\n",
        "200401BS00003\\t66 - 75\\tNA\\tData missing or out of range\\tNA\\tNA\\tNone\\tNone\\tData missing or out of range\\tData missing or out of range\\tLONDON TAXIS INT\\tTXII GOLD AUTO\\tNA\\tMale\\tNone\\tNo tow/articulation\\tDid not leave carriageway\\t0\\tGoing ahead other\\t2\\t109\\tData missing or out of range\\tFront\\t2004\n",
        "200401BS00004\\t26 - 35\\t1\\tUrban area\\t4\\t124\\tNone\\tNone\\tData missing or out of range\\tData missing or out of range\\tPIAGGIO\\tVESPA ET4\\tPetrol\\tMale\\tNone\\tNo tow/articulation\\tDid not leave carriageway\\t0\\tGoing ahead other\\t1\\tMotorcycle 125cc and under\\tData missing or out of range\\tFront\\t2004\n",
        "200401BS00004\\t36 - 45\\t10\\tData missing or out of range\\tNA\\t1781\\tNone\\tNone\\tData missing or out of range\\tData missing or out of range\\tVOLKSWAGEN\\t\\tPetrol\\tMale\\tNone\\tNo tow/articulation\\tDid not leave carriageway\\t0\\tU-turn\\t2\\t109\\tData missing or out of range\\tOffside\\t2004\n",
        "200401BS00009\\t26 - 35\\tNA\\tUrban area\\t4\\tNA\\tNone\\tNone\\tData missing or out of range\\tData missing or out of range\\tPIAGGIO\\tVESPA GT 125\\tNA\\tMale\\tSkidded\\tNo tow/articulation\\tDid not leave carriageway\\t0\\tGoing ahead other\\t1\\tMotorcycle 125cc and under\\tData missing or out of range\\tDid not impact\\t2004\n",
        "200401BS00010\\t36 - 45\\tNA\\tUrban area\\t8\\tNA\\tNone\\tNone\\tData missing or out of range\\tData missing or out of range\\tBMW\\tR1100 RT\\tNA\\tMale\\tNone\\tNo tow/articulation\\tDid not leave carriageway\\t0\\tTurning right\\t1\\t109\\tData missing or out of range\\tFront\\t2004\n",
        "200401BS00012\\t46 - 55\\t3\\tData missing or out of range\\tNA\\t2685\\tNone\\tNone\\tData missing or out of range\\tData missing or out of range\\tMERCEDES\\t\\tHeavy oil\\tMale\\tNone\\tNo tow/articulation\\tDid not leave carriageway\\t0\\tSlowing or stopping\\t1\\t109\\tData missing or out of range\\tBack\\t2004\"\"\"\n",
        "\n",
        "# Convert string data to DataFrame\n",
        "from io import StringIO\n",
        "df = pd.read_csv(StringIO(data_str), sep='\\t')\n",
        "\n",
        "# Preprocessing: Handle missing values and encode categorical variables\n",
        "le = LabelEncoder()\n",
        "df['Age_Band_of_Driver'] = le.fit_transform(df['Age_Band_of_Driver'])\n",
        "df['Vehicle_Manoeuvre'] = le.fit_transform(df['Vehicle_Manoeuvre'])\n",
        "df['Vehicle_Type'] = le.fit_transform(df['Vehicle_Type'])\n",
        "df['X1st_Point_of_Impact'] = le.fit_transform(df['X1st_Point_of_Impact'])\n",
        "df['Engine_Capacity_.CC.'] = pd.to_numeric(df['Engine_Capacity_.CC.'], errors='coerce').fillna(-1)\n",
        "df['Age_of_Vehicle'] = pd.to_numeric(df['Age_of_Vehicle'], errors='coerce').fillna(-1)\n",
        "df['Driver_IMD_Decile'] = pd.to_numeric(df['Driver_IMD_Decile'], errors='coerce').fillna(-1)\n",
        "\n",
        "# Features for KNN\n",
        "features = ['Age_Band_of_Driver', 'Age_of_Vehicle', 'Engine_Capacity_.CC.', 'Driver_IMD_Decile', 'Vehicle_Manoeuvre']\n",
        "X = df[features].values\n",
        "y = df['Vehicle_Type'].values  # Target: Classify vehicle type\n",
        "\n",
        "# Split data for KNN\n",
        "X_train, X_test, y_train, y_test = train_test_split(X, y, test_size=0.3, random_state=42)\n",
        "\n",
        "# Simulated Haar Cascade detection function (based on dataset features)\n",
        "def simulate_haar_detection(df):\n",
        "    # Simulate detection based on Vehicle_Type and X1st_Point_of_Impact\n",
        "    detected = df['Vehicle_Type'].apply(lambda x: random.random() > 0.2)  # 80% detection rate\n",
        "    ground_truth = df['Vehicle_Type'].notna()  # Assume all entries are true vehicles\n",
        "    accuracy = accuracy_score(ground_truth, detected) * 100 + random.uniform(-5, 5)\n",
        "    return accuracy\n",
        "\n",
        "# KNN classification function\n",
        "def classify_vehicles_knn(X_train, y_train, X_test, y_test):\n",
        "    knn = KNeighborsClassifier(n_neighbors=3)\n",
        "    knn.fit(X_train, y_train)\n",
        "    y_pred = knn.predict(X_test)\n",
        "    accuracy = accuracy_score(y_test, y_pred) * 100 + random.uniform(-5, 5)  # Add noise\n",
        "    return accuracy\n",
        "\n",
        "# Main comparison function\n",
        "def traffic_analysis_comparison(df, n_trials=10):\n",
        "    haar_accuracies = []\n",
        "    knn_accuracies = []\n",
        "\n",
        "    for trial in range(n_trials):\n",
        "        # Simulate Haar Cascade accuracy\n",
        "        haar_accuracy = simulate_haar_detection(df)\n",
        "        haar_accuracies.append(haar_accuracy)\n",
        "\n",
        "        # KNN accuracy\n",
        "        knn_accuracy = classify_vehicles_knn(X_train, y_train, X_test, y_test)\n",
        "        knn_accuracies.append(knn_accuracy)\n",
        "\n",
        "    # Print accuracies\n",
        "    print(\"\\nHaar Cascade Accuracies (10 trials):\")\n",
        "    for i, acc in enumerate(haar_accuracies, 1):\n",
        "        print(f\"Trial {i}: {acc:.2f}%\")\n",
        "\n",
        "    print(\"\\nKNN Accuracies (10 trials):\")\n",
        "    for i, acc in enumerate(knn_accuracies, 1):\n",
        "        print(f\"Trial {i}: {acc:.2f}%\")\n",
        "\n",
        "    # Average accuracy comparison\n",
        "    haar_avg = np.mean(haar_accuracies)\n",
        "    knn_avg = np.mean(knn_accuracies)\n",
        "    print(f\"\\nAverage Haar Cascade Accuracy: {haar_avg:.2f}%\")\n",
        "    print(f\"Average KNN Accuracy: {knn_avg:.2f}%\")\n",
        "    print(f\"Difference (KNN - Haar): {knn_avg - haar_avg:.2f}%\")\n",
        "\n",
        "# Run the comparison\n",
        "traffic_analysis_comparison(df)"
      ]
    }
  ]
}